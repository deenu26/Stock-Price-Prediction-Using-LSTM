{
 "cells": [
  {
   "cell_type": "markdown",
   "id": "f17d9115",
   "metadata": {},
   "source": [
    "# Dissertation"
   ]
  },
  {
   "cell_type": "markdown",
   "id": "de2ccde2",
   "metadata": {},
   "source": [
    "Collecting Financial News for the last 10 years"
   ]
  },
  {
   "cell_type": "markdown",
   "id": "8197bad2",
   "metadata": {},
   "source": [
    "# FINANCIAL NEWS EXTRACTION"
   ]
  },
  {
   "cell_type": "code",
   "execution_count": 1,
   "id": "c15c8207",
   "metadata": {
    "scrolled": false
   },
   "outputs": [
    {
     "name": "stdout",
     "output_type": "stream",
     "text": [
      "Apple Unveils iPhone 15 and Switches to USB-C Charger\n",
      "2023-09-12T18:53:16+0000\n",
      "------------------------------------------------------------------------------------------------------------------------\n",
      "Apple’s Market Value Falls By Billions On Worries About China Crackdown\n",
      "2023-09-07T11:49:06+0000\n",
      "------------------------------------------------------------------------------------------------------------------------\n",
      "How to Navigate Apple’s Shift From Lightning to USB-C\n",
      "2023-09-12T19:04:19+0000\n",
      "------------------------------------------------------------------------------------------------------------------------\n",
      "A report of a Pegasus attack on one Russian journalist sets off a flurry of concern among others.\n",
      "2023-09-14T22:41:17+0000\n",
      "------------------------------------------------------------------------------------------------------------------------\n",
      "China Denies Banning iPhones, but Cites Unspecified Security Concerns\n",
      "2023-09-13T12:18:57+0000\n",
      "------------------------------------------------------------------------------------------------------------------------\n",
      "‘The Changeling’ Review: Bye Bye Baby\n",
      "2023-09-15T14:26:45+0000\n",
      "------------------------------------------------------------------------------------------------------------------------\n",
      "As Smartphone Industry Sputters, the iPhone Expands Its Dominance\n",
      "2023-09-11T09:02:24+0000\n",
      "------------------------------------------------------------------------------------------------------------------------\n",
      "Chinese Warnings on iPhones Tap Deep Strain of Security Concerns\n",
      "2023-09-11T09:02:44+0000\n",
      "------------------------------------------------------------------------------------------------------------------------\n",
      "Tuesday Briefing: Aid Trickles In to Morocco\n",
      "2023-09-11T20:37:56+0000\n",
      "------------------------------------------------------------------------------------------------------------------------\n",
      "Mimi Leder Believes in Big Feelings\n",
      "2023-09-11T16:07:10+0000\n",
      "------------------------------------------------------------------------------------------------------------------------\n"
     ]
    }
   ],
   "source": [
    "#These codes were refered from the New York Times Search Articcal API.\n",
    "\n",
    "# Trial extract\n",
    "\n",
    "import requests\n",
    "\n",
    "API_KEY = 'NEED TO PUT MY API KEY HERE - I have removed it'\n",
    "# Replace with your actual API key\n",
    "BASE_URL = \"https://api.nytimes.com/svc/search/v2/articlesearch.json\"\n",
    "#BASE _URL = \"https://api.nytimes.com/svc/archive/v1/2019/1.json?api-key=yourkey\"\n",
    "\n",
    "\n",
    "# Define your search parameters\n",
    "params = {\n",
    "    'q': 'Apple',  # Query keyword\n",
    "    'begin_date': '20230906',  # Start date (e.g., January 1, 2013)\n",
    "    'end_date': '20230916',  # End date (e.g., December 31, 2013)\n",
    "    'api-key': API_KEY\n",
    "}\n",
    "\n",
    "response = requests.get(BASE_URL, params=params)\n",
    "data = response.json()\n",
    "\n",
    "# Extract articles\n",
    "articles = data['response']['docs']\n",
    "for article in articles:\n",
    "    print(article['headline']['main'])\n",
    "    print(article['pub_date'])\n",
    "    print('---' * 40)\n",
    "    \n",
    "#Note: The above code is from the New York Times API documentation"
   ]
  },
  {
   "cell_type": "code",
   "execution_count": 55,
   "id": "d32ecb59",
   "metadata": {},
   "outputs": [],
   "source": [
    "date_list = [\n",
    "   {'begin_date': '20150101', 'end_date': '20150110'},\n",
    "    {'begin_date': '20150111', 'end_date': '20150120'},\n",
    "    {'begin_date': '20150121', 'end_date': '20150131'},\n",
    "    {'begin_date': '20150201', 'end_date': '20150210'},\n",
    "    {'begin_date': '20150211', 'end_date': '20150220'},\n",
    "    {'begin_date': '20150221', 'end_date': '20150228'},  # February 2015 has only 28 days\n",
    "    {'begin_date': '20150301', 'end_date': '20150310'},\n",
    "    {'begin_date': '20150311', 'end_date': '20150320'},\n",
    "    {'begin_date': '20150321', 'end_date': '20150331'},\n",
    "    {'begin_date': '20150401', 'end_date': '20150410'},\n",
    "    {'begin_date': '20150411', 'end_date': '20150420'},\n",
    "    {'begin_date': '20150421', 'end_date': '20150430'},\n",
    "    {'begin_date': '20150501', 'end_date': '20150510'},\n",
    "    {'begin_date': '20150511', 'end_date': '20150520'},\n",
    "    {'begin_date': '20150521', 'end_date': '20150531'},\n",
    "    {'begin_date': '20150601', 'end_date': '20150610'},\n",
    "    {'begin_date': '20150611', 'end_date': '20150620'},\n",
    "    {'begin_date': '20150621', 'end_date': '20150630'},\n",
    "    {'begin_date': '20150701', 'end_date': '20150710'},\n",
    "    {'begin_date': '20150711', 'end_date': '20150720'},\n",
    "    {'begin_date': '20150721', 'end_date': '20150731'},\n",
    "    {'begin_date': '20150801', 'end_date': '20150810'},\n",
    "    {'begin_date': '20150811', 'end_date': '20150820'},\n",
    "    {'begin_date': '20150821', 'end_date': '20150831'},\n",
    "    {'begin_date': '20150901', 'end_date': '20150910'},\n",
    "    {'begin_date': '20150911', 'end_date': '20150920'},\n",
    "    {'begin_date': '20150921', 'end_date': '20150930'},\n",
    "    {'begin_date': '20151001', 'end_date': '20151010'},\n",
    "    {'begin_date': '20151011', 'end_date': '20151020'},\n",
    "    {'begin_date': '20151021', 'end_date': '20151031'},\n",
    "    {'begin_date': '20151101', 'end_date': '20151110'},\n",
    "    {'begin_date': '20151111', 'end_date': '20151120'},\n",
    "    {'begin_date': '20151121', 'end_date': '20151130'},\n",
    "    {'begin_date': '20151201', 'end_date': '20151210'},\n",
    "    {'begin_date': '20151211', 'end_date': '20151220'},\n",
    "    {'begin_date': '20151221', 'end_date': '20151231'}\n",
    "]"
   ]
  },
  {
   "cell_type": "code",
   "execution_count": 56,
   "id": "bba6e3e9",
   "metadata": {},
   "outputs": [],
   "source": [
    "def get_data(begin_date,end_date,API_KEY='xrGw2FHUzh9RiAVC9HBAqVpF3moJX9qA'):\n",
    "  # Replace with your actual API key\n",
    "  BASE_URL = \"https://api.nytimes.com/svc/search/v2/articlesearch.json\"\n",
    "  # Define search parameters\n",
    "  params = {\n",
    "      'q': 'Apple',  # Query keyword\n",
    "      'begin_date': begin_date,  # Start date (e.g., January 1, 2013)\n",
    "      'end_date': end_date,  # End date (e.g., December 31, 2013)\n",
    "      'api-key': API_KEY\n",
    "  }\n",
    "\n",
    "  response = requests.get(BASE_URL, params)\n",
    "  response.raise_for_status()\n",
    "  data = response.json()\n",
    "\n",
    "  # Extract articles\n",
    "  # articles = data['response']['docs']\n",
    "  return data\n"
   ]
  },
  {
   "cell_type": "code",
   "execution_count": 57,
   "id": "b4179a0b",
   "metadata": {},
   "outputs": [
    {
     "name": "stdout",
     "output_type": "stream",
     "text": [
      "Data has been written to FinancialNews2015.csv.\n"
     ]
    }
   ],
   "source": [
    "import csv\n",
    "import time\n",
    "\n",
    "# Define the CSV file name\n",
    "csv_file_name = 'FinancialNews2015.csv'\n",
    "\n",
    "# Define the fieldnames\n",
    "fieldnames = ['Pub Date', 'Headline', 'Snippet', 'Lead Paragraph', 'abstract', 'Source', 'Web URL']\n",
    "\n",
    "# Create an empty list to store all the data\n",
    "_data = []\n",
    "\n",
    "# Loop through date ranges\n",
    "for date_range in date_list:\n",
    "    begin_date = date_range['begin_date']\n",
    "    end_date = date_range['end_date']\n",
    "    data = get_data(begin_date, end_date)\n",
    "    _dict = data['response']['docs']\n",
    "\n",
    "    for item in _dict:\n",
    "        # Create a dictionary for each item and append it to the list\n",
    "        csv_row = {\n",
    "            'Pub Date': item.get('pub_date', ''),\n",
    "            'Headline': item.get('headline', {}).get('main', ''),\n",
    "            'Snippet': item.get('snippet', ''),\n",
    "            'Lead Paragraph': item.get('lead_paragraph', ''),\n",
    "            'abstract': item.get('abstract', ''),\n",
    "            'Source': item.get('source', ''),\n",
    "            'Web URL': item.get('web_url', '')\n",
    "        }\n",
    "        _data.append(csv_row)\n",
    "    time.sleep(12)\n",
    "\n",
    "# Write the data to the CSV file\n",
    "with open(csv_file_name, 'w', newline='', encoding='utf-8') as csv_file:\n",
    "    writer = csv.DictWriter(csv_file, fieldnames=fieldnames)\n",
    "\n",
    "    # Write the header row\n",
    "    writer.writeheader()\n",
    "\n",
    "    # Write the data rows\n",
    "    for row in _data:\n",
    "        writer.writerow(row)\n",
    "\n",
    "print(f'Data has been written to {csv_file_name}.')\n"
   ]
  }
 ],
 "metadata": {
  "kernelspec": {
   "display_name": "Python 3 (ipykernel)",
   "language": "python",
   "name": "python3"
  },
  "language_info": {
   "codemirror_mode": {
    "name": "ipython",
    "version": 3
   },
   "file_extension": ".py",
   "mimetype": "text/x-python",
   "name": "python",
   "nbconvert_exporter": "python",
   "pygments_lexer": "ipython3",
   "version": "3.9.12"
  }
 },
 "nbformat": 4,
 "nbformat_minor": 5
}
